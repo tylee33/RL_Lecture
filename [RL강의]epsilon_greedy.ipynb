{
  "nbformat": 4,
  "nbformat_minor": 0,
  "metadata": {
    "colab": {
      "name": "[RL강의]epsilon_greedy.ipynb",
      "provenance": [],
      "include_colab_link": true
    },
    "kernelspec": {
      "name": "python3",
      "display_name": "Python 3"
    }
  },
  "cells": [
    {
      "cell_type": "markdown",
      "metadata": {
        "id": "view-in-github",
        "colab_type": "text"
      },
      "source": [
        "<a href=\"https://colab.research.google.com/github/tylee33/RL_Lecture/blob/master/%5BRL%EA%B0%95%EC%9D%98%5Depsilon_greedy.ipynb\" target=\"_parent\"><img src=\"https://colab.research.google.com/assets/colab-badge.svg\" alt=\"Open In Colab\"/></a>"
      ]
    },
    {
      "cell_type": "markdown",
      "metadata": {
        "id": "Dku36tWqmIUr",
        "colab_type": "text"
      },
      "source": [
        "## 탐색을 학습에 활용하는 방법: 엡실론-그리디 방법\n",
        "\n",
        "![그림](https://ichef.bbci.co.uk/news/660/media/images/74580000/jpg/_74580127_162317629(1).jpg)"
      ]
    },
    {
      "cell_type": "code",
      "metadata": {
        "id": "yAXSPfsXmT1k",
        "colab_type": "code",
        "colab": {}
      },
      "source": [
        "import numpy as np\n",
        "import seaborn as sns\n",
        "import matplotlib.pyplot as plt\n",
        "import pandas as pd\n",
        "\n",
        "from collections import Counter\n",
        "sns.set(style=\"whitegrid\")\n",
        "%matplotlib inline"
      ],
      "execution_count": 0,
      "outputs": []
    },
    {
      "cell_type": "code",
      "metadata": {
        "id": "JRvZJPgWmh75",
        "colab_type": "code",
        "colab": {}
      },
      "source": [
        "class Enemy:\n",
        "    def __init__(self, kawi, bawi, bo):\n",
        "        assert sum([kawi, bawi, bo]) == 1.0\n",
        "        self.hands = {0:'kawi', 1:'bawi', 2:'bo'}\n",
        "        self.prob = [kawi, bawi, bo]\n",
        "    \n",
        "    def draw(self):\n",
        "        action =  np.random.choice(3, p=self.prob)\n",
        "        return self.hands[action]"
      ],
      "execution_count": 0,
      "outputs": []
    },
    {
      "cell_type": "code",
      "metadata": {
        "id": "JS0K0V8Vmi1Z",
        "colab_type": "code",
        "colab": {}
      },
      "source": [
        "enemy = Enemy(0.5, 0.25, 0.25)"
      ],
      "execution_count": 0,
      "outputs": []
    },
    {
      "cell_type": "code",
      "metadata": {
        "id": "flwigrTsmlzF",
        "colab_type": "code",
        "outputId": "7ffad80c-248c-4f00-abc7-0ec373b2d86f",
        "colab": {
          "base_uri": "https://localhost:8080/",
          "height": 34
        }
      },
      "source": [
        "enemy.draw()"
      ],
      "execution_count": 4,
      "outputs": [
        {
          "output_type": "execute_result",
          "data": {
            "text/plain": [
              "'kawi'"
            ]
          },
          "metadata": {
            "tags": []
          },
          "execution_count": 4
        }
      ]
    },
    {
      "cell_type": "code",
      "metadata": {
        "id": "BmSmBX1Vmsf1",
        "colab_type": "code",
        "colab": {}
      },
      "source": [
        "samples = [enemy.draw() for _ in range(1000)]"
      ],
      "execution_count": 0,
      "outputs": []
    },
    {
      "cell_type": "code",
      "metadata": {
        "id": "Ykfh8hMamwNg",
        "colab_type": "code",
        "colab": {}
      },
      "source": [
        "cnt = Counter(samples)"
      ],
      "execution_count": 0,
      "outputs": []
    },
    {
      "cell_type": "code",
      "metadata": {
        "id": "sGvZqDMGmyn3",
        "colab_type": "code",
        "outputId": "c269bdfc-281b-4c77-d965-562e812cae37",
        "colab": {
          "base_uri": "https://localhost:8080/",
          "height": 345
        }
      },
      "source": [
        "plt.bar(range(len(cnt)), cnt.values())\n",
        "plt.xticks(range(len(cnt)), cnt.keys())"
      ],
      "execution_count": 7,
      "outputs": [
        {
          "output_type": "execute_result",
          "data": {
            "text/plain": [
              "([<matplotlib.axis.XTick at 0x7fb119996668>,\n",
              "  <matplotlib.axis.XTick at 0x7fb119971e80>,\n",
              "  <matplotlib.axis.XTick at 0x7fb123a6c5f8>],\n",
              " <a list of 3 Text xticklabel objects>)"
            ]
          },
          "metadata": {
            "tags": []
          },
          "execution_count": 7
        },
        {
          "output_type": "display_data",
          "data": {
            "image/png": "[encoded data removed]",
            "text/plain": [
              "<Figure size 432x288 with 1 Axes>"
            ]
          },
          "metadata": {
            "tags": []
          }
        }
      ]
    },
    {
      "cell_type": "code",
      "metadata": {
        "id": "b6pm7kqGm0_m",
        "colab_type": "code",
        "colab": {}
      },
      "source": [
        "class Agent:\n",
        "    def __init__(self, epsilon):\n",
        "        self.hands = {0:'kawi', 1:'bawi', 2:'bo'}\n",
        "        self.eps = epsilon\n",
        "        self.count = {'kawi':[0, 0, 0], 'bawi':[0, 0, 0], 'bo': [0, 0, 0]}  # hand: [N_draw, N_win, N_lose]\n",
        "        \n",
        "    def draw(self):\n",
        "        decision = 'exploit' if np.random.rand() > self.eps else 'explore'\n",
        "        if decision == 'exploit':\n",
        "            return self.greedy_act()\n",
        "        elif decision == 'explore':\n",
        "            return self.random_act()\n",
        "        \n",
        "    def greedy_act(self):\n",
        "        temp_summary = {}\n",
        "        for hand, vals in self.count.items():\n",
        "            if sum(vals) == 0:\n",
        "                temp_summary[hand] = 0\n",
        "            else:\n",
        "                win_rate = vals[1]/sum(vals)\n",
        "                temp_summary[hand] = win_rate\n",
        "        return max(temp_summary, key=temp_summary.get)\n",
        "    \n",
        "    def random_act(self):\n",
        "        return self.hands[np.random.choice(3)]"
      ],
      "execution_count": 0,
      "outputs": []
    },
    {
      "cell_type": "code",
      "metadata": {
        "id": "6TzS2eqrm4hO",
        "colab_type": "code",
        "colab": {}
      },
      "source": [
        "class Game:\n",
        "    def __init__(self, enemy, agent):\n",
        "        self.enemy = enemy\n",
        "        self.agent = agent\n",
        "        \n",
        "    def one_play(self):\n",
        "        enemy_hand = self.enemy.draw()\n",
        "        myhand = self.agent.draw()\n",
        "        out = None\n",
        "        if myhand == enemy_hand:\n",
        "            out = 0\n",
        "        elif myhand=='kawi' and enemy_hand=='bo':\n",
        "            out = 1\n",
        "        elif myhand=='bawi' and enemy_hand=='kawi':\n",
        "            out = 1\n",
        "        elif myhand=='bo' and enemy_hand=='bawi':\n",
        "            out = 1\n",
        "        else:\n",
        "            out = -1\n",
        "        return out, myhand"
      ],
      "execution_count": 0,
      "outputs": []
    },
    {
      "cell_type": "code",
      "metadata": {
        "id": "XkpmmPmIm91s",
        "colab_type": "code",
        "colab": {}
      },
      "source": [
        "enemy = Enemy(0.9, 0.05, 0.05)\n",
        "agent = Agent(0.1)\n",
        "game = Game(enemy, agent)"
      ],
      "execution_count": 0,
      "outputs": []
    },
    {
      "cell_type": "code",
      "metadata": {
        "id": "DZ3LZZqBnCcY",
        "colab_type": "code",
        "colab": {}
      },
      "source": [
        "run_avg = []\n",
        "results = []\n",
        "temp = []\n",
        "for n in range(100):\n",
        "    temp = []\n",
        "    for k in range(20):\n",
        "        out, agt_hand = game.one_play()\n",
        "        if k == 1:\n",
        "            agent.count[agt_hand][out] += 1\n",
        "        temp.append(out)\n",
        "    results.append(np.mean(temp))\n",
        "    run_avg.append(np.mean(results))"
      ],
      "execution_count": 0,
      "outputs": []
    },
    {
      "cell_type": "code",
      "metadata": {
        "id": "yjtkuX4AnEf-",
        "colab_type": "code",
        "outputId": "88a1f58f-da43-4dfe-cb86-66e6205fb3f5",
        "colab": {
          "base_uri": "https://localhost:8080/",
          "height": 292
        }
      },
      "source": [
        "plt.plot(run_avg)"
      ],
      "execution_count": 12,
      "outputs": [
        {
          "output_type": "execute_result",
          "data": {
            "text/plain": [
              "[<matplotlib.lines.Line2D at 0x7fb1170c5940>]"
            ]
          },
          "metadata": {
            "tags": []
          },
          "execution_count": 12
        },
        {
          "output_type": "display_data",
          "data": {
            "image/png": "[encoded data removed]",
            "text/plain": [
              "<Figure size 432x288 with 1 Axes>"
            ]
          },
          "metadata": {
            "tags": []
          }
        }
      ]
    },
    {
      "cell_type": "code",
      "metadata": {
        "id": "-q7Am4n8nHWx",
        "colab_type": "code",
        "outputId": "017c6ec6-4410-4711-943f-10107682076e",
        "colab": {
          "base_uri": "https://localhost:8080/",
          "height": 345
        }
      },
      "source": [
        "samples = [agent.draw() for _ in range(1000)]\n",
        "cnt = Counter(samples)\n",
        "plt.bar(range(len(cnt)), cnt.values())\n",
        "plt.xticks(range(len(cnt)), cnt.keys())"
      ],
      "execution_count": 13,
      "outputs": [
        {
          "output_type": "execute_result",
          "data": {
            "text/plain": [
              "([<matplotlib.axis.XTick at 0x7fb117088048>,\n",
              "  <matplotlib.axis.XTick at 0x7fb1170887b8>,\n",
              "  <matplotlib.axis.XTick at 0x7fb117088a90>],\n",
              " <a list of 3 Text xticklabel objects>)"
            ]
          },
          "metadata": {
            "tags": []
          },
          "execution_count": 13
        },
        {
          "output_type": "display_data",
          "data": {
            "image/png": "[encoded data removed]",
            "text/plain": [
              "<Figure size 432x288 with 1 Axes>"
            ]
          },
          "metadata": {
            "tags": []
          }
        }
      ]
    },
    {
      "cell_type": "code",
      "metadata": {
        "id": "dMg56nzfnJga",
        "colab_type": "code",
        "colab": {}
      },
      "source": [
        "def experiment(params, agent_eps, n_trails=100):\n",
        "    enemy = Enemy(params[0], params[1], params[2])\n",
        "    agent = Agent(agent_eps)\n",
        "    game = Game(enemy, agent)\n",
        "    run_avg = []\n",
        "    results = []\n",
        "    temp = []\n",
        "    for n in range(n_trails):\n",
        "        temp = []\n",
        "        for k in range(20):\n",
        "            out, agt_hand = game.one_play()\n",
        "            if k == 1:\n",
        "                agent.count[agt_hand][out] += 1\n",
        "            temp.append(out)\n",
        "        results.append(np.mean(temp))\n",
        "        run_avg.append(np.mean(results))\n",
        "    return run_avg"
      ],
      "execution_count": 0,
      "outputs": []
    },
    {
      "cell_type": "code",
      "metadata": {
        "id": "M6tJB4LQnLbG",
        "colab_type": "code",
        "colab": {}
      },
      "source": [
        "params = [0.9, 0.05, 0.05]\n",
        "eps_01 = experiment(params, agent_eps=0.1)\n",
        "eps_03 = experiment(params, agent_eps=0.3)\n",
        "eps_005 = experiment(params, agent_eps=0.05)"
      ],
      "execution_count": 0,
      "outputs": []
    },
    {
      "cell_type": "code",
      "metadata": {
        "id": "3zc8FGMhnNiY",
        "colab_type": "code",
        "outputId": "ea198fd3-354a-43d4-956d-00059948e1b0",
        "colab": {
          "base_uri": "https://localhost:8080/",
          "height": 292
        }
      },
      "source": [
        "plt.plot(eps_01, color='r', label='EPS=0.1')\n",
        "plt.plot(eps_03, color='g', label='EPS=0.3')\n",
        "plt.plot(eps_005, color='b', label='EPS=0.05')\n",
        "plt.legend(loc='best')"
      ],
      "execution_count": 16,
      "outputs": [
        {
          "output_type": "execute_result",
          "data": {
            "text/plain": [
              "<matplotlib.legend.Legend at 0x7fb116ff49b0>"
            ]
          },
          "metadata": {
            "tags": []
          },
          "execution_count": 16
        },
        {
          "output_type": "display_data",
          "data": {
            "image/png": "[encoded data removed]",
            "text/plain": [
              "<Figure size 432x288 with 1 Axes>"
            ]
          },
          "metadata": {
            "tags": []
          }
        }
      ]
    },
    {
      "cell_type": "markdown",
      "metadata": {
        "id": "W-m11t35nPpo",
        "colab_type": "text"
      },
      "source": [
        "## 잘 터지는 슬롯 머신 고르기 문제\n",
        "\n",
        "![그림](https://camo.githubusercontent.com/bd7121ebf35a6c248c7ca4fe6fde5dd028b4af77/68747470733a2f2f75706c6f61642e77696b696d656469612e6f72672f77696b6970656469612f636f6d6d6f6e732f382f38322f4c61735f56656761735f736c6f745f6d616368696e65732e6a7067)"
      ]
    },
    {
      "cell_type": "code",
      "metadata": {
        "id": "rzj0tDGHnX2a",
        "colab_type": "code",
        "colab": {}
      },
      "source": [
        "mus = [0.2, 0.8, 1.5, 0.5, 1.3, 0.5, -0.2, -1.0, 0.9, 0.4]\n",
        "mus = {'q'+str(i+1):mus[i] for i in range(len(mus))}\n",
        "sigmas = {'q'+str(i+1):1 for i in range(len(mus))}\n",
        "data = {'q'+str(i+1):[] for i in range(len(mus))}\n",
        "for i in range(len(mus)):\n",
        "    for _ in range(1000):\n",
        "        key = 'q'+str(i+1)\n",
        "        data[key].append(np.random.normal(mus[key], sigmas[key]))"
      ],
      "execution_count": 0,
      "outputs": []
    },
    {
      "cell_type": "code",
      "metadata": {
        "id": "hd-kZjDhnaOc",
        "colab_type": "code",
        "outputId": "9f17aa47-ebe5-4e03-bf07-0a121b4d1eaa",
        "colab": {
          "base_uri": "https://localhost:8080/",
          "height": 195
        }
      },
      "source": [
        "data_pd = pd.DataFrame(data)\n",
        "data_pd.head()"
      ],
      "execution_count": 18,
      "outputs": [
        {
          "output_type": "execute_result",
          "data": {
            "text/html": [
              "<div>\n",
              "<style scoped>\n",
              "    .dataframe tbody tr th:only-of-type {\n",
              "        vertical-align: middle;\n",
              "    }\n",
              "\n",
              "    .dataframe tbody tr th {\n",
              "        vertical-align: top;\n",
              "    }\n",
              "\n",
              "    .dataframe thead th {\n",
              "        text-align: right;\n",
              "    }\n",
              "</style>\n",
              "<table border=\"1\" class=\"dataframe\">\n",
              "  <thead>\n",
              "    <tr style=\"text-align: right;\">\n",
              "      <th></th>\n",
              "      <th>q1</th>\n",
              "      <th>q2</th>\n",
              "      <th>q3</th>\n",
              "      <th>q4</th>\n",
              "      <th>q5</th>\n",
              "      <th>q6</th>\n",
              "      <th>q7</th>\n",
              "      <th>q8</th>\n",
              "      <th>q9</th>\n",
              "      <th>q10</th>\n",
              "    </tr>\n",
              "  </thead>\n",
              "  <tbody>\n",
              "    <tr>\n",
              "      <th>0</th>\n",
              "      <td>-0.338463</td>\n",
              "      <td>0.679477</td>\n",
              "      <td>2.944124</td>\n",
              "      <td>-1.082395</td>\n",
              "      <td>1.568243</td>\n",
              "      <td>-0.154564</td>\n",
              "      <td>-0.863401</td>\n",
              "      <td>0.147413</td>\n",
              "      <td>0.427475</td>\n",
              "      <td>0.344818</td>\n",
              "    </tr>\n",
              "    <tr>\n",
              "      <th>1</th>\n",
              "      <td>-0.066084</td>\n",
              "      <td>1.109136</td>\n",
              "      <td>0.752209</td>\n",
              "      <td>1.197876</td>\n",
              "      <td>2.322243</td>\n",
              "      <td>-0.098339</td>\n",
              "      <td>-1.251213</td>\n",
              "      <td>0.170602</td>\n",
              "      <td>0.010887</td>\n",
              "      <td>0.031927</td>\n",
              "    </tr>\n",
              "    <tr>\n",
              "      <th>2</th>\n",
              "      <td>-1.002366</td>\n",
              "      <td>1.664552</td>\n",
              "      <td>1.941157</td>\n",
              "      <td>0.967358</td>\n",
              "      <td>0.716867</td>\n",
              "      <td>0.171057</td>\n",
              "      <td>-0.674408</td>\n",
              "      <td>-1.183194</td>\n",
              "      <td>-0.597215</td>\n",
              "      <td>-1.978006</td>\n",
              "    </tr>\n",
              "    <tr>\n",
              "      <th>3</th>\n",
              "      <td>0.494145</td>\n",
              "      <td>0.263927</td>\n",
              "      <td>1.006952</td>\n",
              "      <td>1.425945</td>\n",
              "      <td>1.833777</td>\n",
              "      <td>1.286510</td>\n",
              "      <td>-1.542174</td>\n",
              "      <td>-0.264394</td>\n",
              "      <td>0.193038</td>\n",
              "      <td>-1.084331</td>\n",
              "    </tr>\n",
              "    <tr>\n",
              "      <th>4</th>\n",
              "      <td>-0.215327</td>\n",
              "      <td>-0.024365</td>\n",
              "      <td>0.573218</td>\n",
              "      <td>2.045445</td>\n",
              "      <td>3.310974</td>\n",
              "      <td>-0.082685</td>\n",
              "      <td>-1.956791</td>\n",
              "      <td>-2.748356</td>\n",
              "      <td>1.678195</td>\n",
              "      <td>1.413671</td>\n",
              "    </tr>\n",
              "  </tbody>\n",
              "</table>\n",
              "</div>"
            ],
            "text/plain": [
              "         q1        q2        q3  ...        q8        q9       q10\n",
              "0 -0.338463  0.679477  2.944124  ...  0.147413  0.427475  0.344818\n",
              "1 -0.066084  1.109136  0.752209  ...  0.170602  0.010887  0.031927\n",
              "2 -1.002366  1.664552  1.941157  ... -1.183194 -0.597215 -1.978006\n",
              "3  0.494145  0.263927  1.006952  ... -0.264394  0.193038 -1.084331\n",
              "4 -0.215327 -0.024365  0.573218  ... -2.748356  1.678195  1.413671\n",
              "\n",
              "[5 rows x 10 columns]"
            ]
          },
          "metadata": {
            "tags": []
          },
          "execution_count": 18
        }
      ]
    },
    {
      "cell_type": "code",
      "metadata": {
        "id": "T6xkiQ-XncgO",
        "colab_type": "code",
        "outputId": "da8487d2-979e-4831-e9e8-f499c125db54",
        "colab": {
          "base_uri": "https://localhost:8080/",
          "height": 292
        }
      },
      "source": [
        "sns.violinplot(data=data_pd)"
      ],
      "execution_count": 19,
      "outputs": [
        {
          "output_type": "execute_result",
          "data": {
            "text/plain": [
              "<matplotlib.axes._subplots.AxesSubplot at 0x7fb116ef25c0>"
            ]
          },
          "metadata": {
            "tags": []
          },
          "execution_count": 19
        },
        {
          "output_type": "display_data",
          "data": {
            "image/png": "[encoded data removed]",
            "text/plain": [
              "<Figure size 432x288 with 1 Axes>"
            ]
          },
          "metadata": {
            "tags": []
          }
        }
      ]
    },
    {
      "cell_type": "markdown",
      "metadata": {
        "id": "xWbiJgIynfBJ",
        "colab_type": "text"
      },
      "source": [
        "### 1. 보상값의 분산이 큰 경우, 탐색적 활동이 탐욕적 활동보다 더 필요하다.\n",
        "### 2. 설사 보상값의 출현패턴이 결정적이라고 하더라도, 환경이 비고정적이라면 탐색적 활동은 여전히 가치있다."
      ]
    },
    {
      "cell_type": "code",
      "metadata": {
        "id": "2gNkqF8knd6D",
        "colab_type": "code",
        "colab": {}
      },
      "source": [
        "class DobakAgent:\n",
        "    def __init__(self, epsilon):\n",
        "        ks = ['q'+str(i+1) for i in range(10)]\n",
        "        self.N = {k:0 for k in ks}\n",
        "        self.Q = {k:0 for k in ks}\n",
        "        self.eps = epsilon\n",
        "        \n",
        "    def decide(self):\n",
        "        decision = 'exploit' if np.random.rand() > self.eps else 'explore'\n",
        "        if decision == 'exploit':\n",
        "            return self.greedy_act()\n",
        "        elif decision == 'explore':\n",
        "            return self.random_act()\n",
        "        \n",
        "    def greedy_act(self):\n",
        "        return max(self.Q, key=self.Q.get)\n",
        "    \n",
        "    def random_act(self):\n",
        "        n = np.random.choice(10)\n",
        "        return list(self.Q.keys())[n]\n",
        "    \n",
        "    def reset(self):\n",
        "        self.__init__(self.eps)"
      ],
      "execution_count": 0,
      "outputs": []
    },
    {
      "cell_type": "code",
      "metadata": {
        "id": "rqsTJPENnm8h",
        "colab_type": "code",
        "colab": {}
      },
      "source": [
        "def experiment(agt_00, agt_01, agt_001, sig=1, steps=500, n_runs=1000):\n",
        "    res_agt_00 = {}\n",
        "    res_agt_01 = {}\n",
        "    res_agt_001 = {}\n",
        "    for n in range(n_runs):\n",
        "        # 한 번의 런마다 하나의 문제를 생성한다.\n",
        "        mus = np.random.uniform(-3, 3, 10)\n",
        "        mus = {'q'+str(i+1):mus[i] for i in range(len(mus))}\n",
        "        sigmas = {'q'+str(i+1):sig for i in range(len(mus))}\n",
        "        res_agt_00[n] = []\n",
        "        res_agt_01[n] = []\n",
        "        res_agt_001[n] = []\n",
        "        # 에이전트들을 리셋 시킨다.\n",
        "        agt_00.reset()\n",
        "        agt_01.reset()\n",
        "        agt_001.reset()\n",
        "        for step in range(steps):\n",
        "            # 각 에이전트는 슬롯머신 손잡이를 선택한다.\n",
        "            action_00 = agt_00.decide()\n",
        "            action_01 = agt_01.decide()\n",
        "            action_001 = agt_001.decide()\n",
        "            # 각 에이전트의 선택에 따른 결과를 받는다.\n",
        "            reward_00 = np.random.normal(mus[action_00], sigmas[action_00])\n",
        "            reward_01 = np.random.normal(mus[action_01], sigmas[action_01])\n",
        "            reward_001 = np.random.normal(mus[action_001], sigmas[action_001])\n",
        "            res_agt_00[n].append(reward_00)\n",
        "            res_agt_01[n].append(reward_01)\n",
        "            res_agt_001[n].append(reward_001)\n",
        "            # 각 에이전트의 카운터를 올리고, 평균 보상값을 업데이트한다.\n",
        "            agt_00.N[action_00] += 1\n",
        "            agt_01.N[action_01] += 1\n",
        "            agt_001.N[action_001] += 1\n",
        "            agt_00.Q[action_00] += (1/agt_00.N[action_00]) * (reward_00 - agt_00.Q[action_00])\n",
        "            agt_01.Q[action_01] += (1/agt_01.N[action_01]) * (reward_01 - agt_01.Q[action_01])\n",
        "            agt_001.Q[action_001] += (1/agt_001.N[action_001]) * (reward_001 - agt_001.Q[action_001])\n",
        "    # 각 타입 스탭마다 2000번의 시행결과를 평균낸다.\n",
        "    res_00, res_01, res_001 = [], [], []\n",
        "    for step in range(steps):\n",
        "        temp_00, temp_01, temp_001 = [], [], []\n",
        "        for n in range(n_runs):\n",
        "            temp_00.append(res_agt_00[n][step])\n",
        "            temp_01.append(res_agt_01[n][step])\n",
        "            temp_001.append(res_agt_001[n][step])\n",
        "        res_00.append(np.mean(temp_00))\n",
        "        res_01.append(np.mean(temp_01))\n",
        "        res_001.append(np.mean(temp_001))\n",
        "    return res_00, res_01, res_001"
      ],
      "execution_count": 0,
      "outputs": []
    },
    {
      "cell_type": "code",
      "metadata": {
        "id": "b_VQV3-wnpaq",
        "colab_type": "code",
        "colab": {}
      },
      "source": [
        "agt_00 = DobakAgent(0.0)\n",
        "agt_01 = DobakAgent(0.1)\n",
        "agt_001 = DobakAgent(0.01)"
      ],
      "execution_count": 0,
      "outputs": []
    },
    {
      "cell_type": "code",
      "metadata": {
        "id": "d-aXn4RxnrKE",
        "colab_type": "code",
        "outputId": "da3ba837-ba63-4f12-8849-c8437d626430",
        "colab": {
          "base_uri": "https://localhost:8080/",
          "height": 292
        }
      },
      "source": [
        "res_agt_00, res_agt_01, res_agt_001 = experiment(agt_00, agt_01, agt_001)\n",
        "\n",
        "plt.plot(res_agt_00, color='r', label='Greedy')\n",
        "plt.plot(res_agt_01, color='g', label='EPS=0.1')\n",
        "plt.plot(res_agt_001, color='b', label='EPS=0.01')\n",
        "plt.legend(loc='best')"
      ],
      "execution_count": 23,
      "outputs": [
        {
          "output_type": "execute_result",
          "data": {
            "text/plain": [
              "<matplotlib.legend.Legend at 0x7fb116e4c908>"
            ]
          },
          "metadata": {
            "tags": []
          },
          "execution_count": 23
        },
        {
          "output_type": "display_data",
          "data": {
            "image/png": "[encoded data removed]",
            "text/plain": [
              "<Figure size 432x288 with 1 Axes>"
            ]
          },
          "metadata": {
            "tags": []
          }
        }
      ]
    },
    {
      "cell_type": "markdown",
      "metadata": {
        "id": "Zj8GEAjCns-P",
        "colab_type": "text"
      },
      "source": [
        "## 분산이 0인 환경: 결정적 환경(deterministic task)"
      ]
    },
    {
      "cell_type": "code",
      "metadata": {
        "id": "JorDV4uMnvv9",
        "colab_type": "code",
        "colab": {}
      },
      "source": [
        "mus = [0.2, 0.8, 1.5, 0.5, 1.3, 0.5, -0.2, -1.0, 0.9, 0.4]\n",
        "mus = {'q'+str(i+1):mus[i] for i in range(len(mus))}\n",
        "sigmas = {'q'+str(i+1):0.0 for i in range(len(mus))}"
      ],
      "execution_count": 0,
      "outputs": []
    },
    {
      "cell_type": "code",
      "metadata": {
        "id": "A2RTZ5uJnxx1",
        "colab_type": "code",
        "outputId": "180d06cc-5b97-491b-95bd-8cd520890a65",
        "colab": {
          "base_uri": "https://localhost:8080/",
          "height": 292
        }
      },
      "source": [
        "data = {'q'+str(i+1):[] for i in range(len(mus))}\n",
        "for i in range(len(mus)):\n",
        "    for _ in range(1000):\n",
        "        key = 'q'+str(i+1)\n",
        "        data[key].append(np.random.normal(mus[key], sigmas[key]))\n",
        "data_pd = pd.DataFrame(data)\n",
        "sns.violinplot(data=data_pd)"
      ],
      "execution_count": 25,
      "outputs": [
        {
          "output_type": "execute_result",
          "data": {
            "text/plain": [
              "<matplotlib.axes._subplots.AxesSubplot at 0x7fb116fb7a58>"
            ]
          },
          "metadata": {
            "tags": []
          },
          "execution_count": 25
        },
        {
          "output_type": "display_data",
          "data": {
            "image/png": "[encoded data removed]",
            "text/plain": [
              "<Figure size 432x288 with 1 Axes>"
            ]
          },
          "metadata": {
            "tags": []
          }
        }
      ]
    },
    {
      "cell_type": "code",
      "metadata": {
        "id": "2iGXNZGlnzuN",
        "colab_type": "code",
        "colab": {}
      },
      "source": [
        "agt_00 = DobakAgent(0.0)\n",
        "agt_01 = DobakAgent(0.1)\n",
        "agt_001 = DobakAgent(0.01)"
      ],
      "execution_count": 0,
      "outputs": []
    },
    {
      "cell_type": "code",
      "metadata": {
        "id": "25LFKWYan11r",
        "colab_type": "code",
        "outputId": "107532a9-0ab9-4b81-ed7f-7d866d46a40f",
        "colab": {
          "base_uri": "https://localhost:8080/",
          "height": 292
        }
      },
      "source": [
        "cavg_agt_00, cavg_agt_01, cavg_agt_001 = experiment(agt_00, agt_01, agt_001, sig=0)\n",
        "\n",
        "plt.plot(cavg_agt_00, color='r', label='Greedy')\n",
        "plt.plot(cavg_agt_01, color='g', label='EPS=0.1')\n",
        "plt.plot(cavg_agt_001, color='b', label='EPS=0.01')\n",
        "plt.legend(loc='best')"
      ],
      "execution_count": 27,
      "outputs": [
        {
          "output_type": "execute_result",
          "data": {
            "text/plain": [
              "<matplotlib.legend.Legend at 0x7fb114a50630>"
            ]
          },
          "metadata": {
            "tags": []
          },
          "execution_count": 27
        },
        {
          "output_type": "display_data",
          "data": {
            "image/png": "[encoded data removed]",
            "text/plain": [
              "<Figure size 432x288 with 1 Axes>"
            ]
          },
          "metadata": {
            "tags": []
          }
        }
      ]
    },
    {
      "cell_type": "markdown",
      "metadata": {
        "id": "BgtmaxKJn4ND",
        "colab_type": "text"
      },
      "source": [
        "## 환경이 중간에 변화하는 경우라면(non-stationary task)?"
      ]
    },
    {
      "cell_type": "code",
      "metadata": {
        "id": "Bzvy198Tn63P",
        "colab_type": "code",
        "colab": {}
      },
      "source": [
        "change_n = 250\n",
        "\n",
        "def experiment_change(agt_00, agt_01, agt_001, sig=1, steps=500, n_runs=1000):\n",
        "    res_agt_00 = {}\n",
        "    res_agt_01 = {}\n",
        "    res_agt_001 = {}\n",
        "    for n in range(n_runs):\n",
        "        # 한 번의 런마다 하나의 문제를 생성한다.\n",
        "        mus = np.random.uniform(-3, 3, 10)\n",
        "        mus = {'q'+str(i+1):mus[i] for i in range(len(mus))}\n",
        "        sigmas = {'q'+str(i+1):sig for i in range(len(mus))}\n",
        "        res_agt_00[n] = []\n",
        "        res_agt_01[n] = []\n",
        "        res_agt_001[n] = []\n",
        "        # 에이전트들을 리셋 시킨다.\n",
        "        agt_00.reset()\n",
        "        agt_01.reset()\n",
        "        agt_001.reset()\n",
        "        for step in range(steps):\n",
        "            # 루프의 턴수가 250이 넘을 때마다 분포의 평균이 서로 바뀌는 상황\n",
        "            if (i+1)%change_n == 0:\n",
        "                vals = np.random.permutation(list(mus.values()))\n",
        "                for idx, k in enumerate(mus):\n",
        "                    mus[k] = vals[idx]\n",
        "            # 각 에이전트는 슬롯머신 손잡이를 선택한다.\n",
        "            action_00 = agt_00.decide()\n",
        "            action_01 = agt_01.decide()\n",
        "            action_001 = agt_001.decide()\n",
        "            # 각 에이전트의 선택에 따른 결과를 받는다.\n",
        "            reward_00 = np.random.normal(mus[action_00], sigmas[action_00])\n",
        "            reward_01 = np.random.normal(mus[action_01], sigmas[action_01])\n",
        "            reward_001 = np.random.normal(mus[action_001], sigmas[action_001])\n",
        "            res_agt_00[n].append(reward_00)\n",
        "            res_agt_01[n].append(reward_01)\n",
        "            res_agt_001[n].append(reward_001)\n",
        "            # 각 에이전트의 카운터를 올리고, 평균 보상값을 업데이트한다.\n",
        "            agt_00.N[action_00] += 1\n",
        "            agt_01.N[action_01] += 1\n",
        "            agt_001.N[action_001] += 1\n",
        "            agt_00.Q[action_00] += (1/agt_00.N[action_00]) * (reward_00 - agt_00.Q[action_00])\n",
        "            agt_01.Q[action_01] += (1/agt_01.N[action_01]) * (reward_01 - agt_01.Q[action_01])\n",
        "            agt_001.Q[action_001] += (1/agt_001.N[action_001]) * (reward_001 - agt_001.Q[action_001])\n",
        "    # 각 타입 스탭마다 2000번의 시행결과를 평균낸다.\n",
        "    res_00, res_01, res_001 = [], [], []\n",
        "    for step in range(steps):\n",
        "        temp_00, temp_01, temp_001 = [], [], []\n",
        "        for n in range(n_runs):\n",
        "            temp_00.append(res_agt_00[n][step])\n",
        "            temp_01.append(res_agt_01[n][step])\n",
        "            temp_001.append(res_agt_001[n][step])\n",
        "        res_00.append(np.mean(temp_00))\n",
        "        res_01.append(np.mean(temp_01))\n",
        "        res_001.append(np.mean(temp_001))\n",
        "    return res_00, res_01, res_001"
      ],
      "execution_count": 0,
      "outputs": []
    },
    {
      "cell_type": "code",
      "metadata": {
        "id": "JuiqPhbsn91i",
        "colab_type": "code",
        "colab": {}
      },
      "source": [
        "agt_00 = DobakAgent(0.0)\n",
        "agt_01 = DobakAgent(0.1)\n",
        "agt_001 = DobakAgent(0.01)"
      ],
      "execution_count": 0,
      "outputs": []
    },
    {
      "cell_type": "code",
      "metadata": {
        "id": "b_hz0OkOn_wL",
        "colab_type": "code",
        "outputId": "286f96cc-5cf6-47a9-f6b7-b3e675f53096",
        "colab": {
          "base_uri": "https://localhost:8080/",
          "height": 292
        }
      },
      "source": [
        "cavg_agt_00, cavg_agt_01, cavg_agt_001 = experiment_change(agt_00, agt_01, agt_001)\n",
        "\n",
        "plt.plot(cavg_agt_00, color='r', label='Greedy')\n",
        "plt.plot(cavg_agt_01, color='g', label='EPS=0.1')\n",
        "plt.plot(cavg_agt_001, color='b', label='EPS=0.01')\n",
        "plt.legend(loc='best')"
      ],
      "execution_count": 30,
      "outputs": [
        {
          "output_type": "execute_result",
          "data": {
            "text/plain": [
              "<matplotlib.legend.Legend at 0x7fb1149a9be0>"
            ]
          },
          "metadata": {
            "tags": []
          },
          "execution_count": 30
        },
        {
          "output_type": "display_data",
          "data": {
            "image/png": "[encoded data removed]",
            "text/plain": [
              "<Figure size 432x288 with 1 Axes>"
            ]
          },
          "metadata": {
            "tags": []
          }
        }
      ]
    },
    {
      "cell_type": "markdown",
      "metadata": {
        "id": "9b28l286oBhM",
        "colab_type": "text"
      },
      "source": [
        "## 왜 이런 탐색 방법이 필요한가?\n",
        "\n",
        "*   어떤 것을 선택하는 것이 좋은지를 먼저 알아야 한다.\n",
        "*   어떤 선택지가 더 나은 선택지인지를 알기 위해선 검증과정이 필요하다.\n",
        "*   실제 세계는 항상 변화하기에 지속적인 탐색이 필요하다.\n",
        "\n"
      ]
    }
  ]
}